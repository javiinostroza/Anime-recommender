{
  "nbformat": 4,
  "nbformat_minor": 0,
  "metadata": {
    "colab": {
      "name": "pyreclab.ipynb",
      "provenance": [],
      "collapsed_sections": [],
      "toc_visible": true
    },
    "kernelspec": {
      "name": "python3",
      "display_name": "Python 3"
    }
  },
  "cells": [
    {
      "cell_type": "code",
      "metadata": {
        "colab": {
          "base_uri": "https://localhost:8080/"
        },
        "id": "XKMczA3p71uI",
        "outputId": "f8c9d79d-95bc-4b56-af38-e42fb9416c66"
      },
      "source": [
        "!pip install pyreclab"
      ],
      "execution_count": null,
      "outputs": [
        {
          "output_type": "stream",
          "text": [
            "Requirement already satisfied: pyreclab in /usr/local/lib/python3.6/dist-packages (0.1.15)\n"
          ],
          "name": "stdout"
        }
      ]
    },
    {
      "cell_type": "code",
      "metadata": {
        "id": "er3C_2-Z8Hrr"
      },
      "source": [
        "import pyreclab\r\n",
        "import pandas as pd\r\n",
        "import numpy as np\r\n",
        "from sklearn.model_selection import train_test_split"
      ],
      "execution_count": null,
      "outputs": []
    },
    {
      "cell_type": "code",
      "metadata": {
        "colab": {
          "base_uri": "https://localhost:8080/"
        },
        "id": "pWVIe_iGODzG",
        "outputId": "45446fee-8095-4c2c-fc35-f25d17570ee7"
      },
      "source": [
        "from google.colab import drive\n",
        "drive.mount('/content/drive')"
      ],
      "execution_count": null,
      "outputs": [
        {
          "output_type": "stream",
          "text": [
            "Mounted at /content/drive\n"
          ],
          "name": "stdout"
        }
      ]
    },
    {
      "cell_type": "code",
      "metadata": {
        "colab": {
          "base_uri": "https://localhost:8080/"
        },
        "id": "pUxBkTs1PP9B",
        "outputId": "63867d5b-9784-49d3-a55d-a20cb7093b25"
      },
      "source": [
        "cd /content/drive/MyDrive/Colab Notebooks"
      ],
      "execution_count": null,
      "outputs": [
        {
          "output_type": "stream",
          "text": [
            "/content/drive/MyDrive/Colab Notebooks\n"
          ],
          "name": "stdout"
        }
      ]
    },
    {
      "cell_type": "markdown",
      "metadata": {
        "id": "ZRZMPwOs-E_m"
      },
      "source": [
        "Basado en: @inproceedings{1706.06291v2, author = {Gabriel Sepulveda and Vicente Dominguez and Denis Parra}, title = {pyRecLab: A Software Library for Quick Prototyping of Recommender Systems}, year = {2017}, month = {August}, eprint = {arXiv:1706.06291v2}, keywords = {Recommender Systems, Software Development, Recommender Library, Python Library} }"
      ]
    },
    {
      "cell_type": "markdown",
      "metadata": {
        "id": "yiMRYsNKaAOc"
      },
      "source": [
        "# Base de datos"
      ]
    },
    {
      "cell_type": "markdown",
      "metadata": {
        "id": "S_wwPcj4aIDG"
      },
      "source": [
        "Primero se obtiene el itemset a evaluar para luego dividirlo en dos muestras estratificadas por género : una muestra de entrenamiento y otra de testeo"
      ]
    },
    {
      "cell_type": "code",
      "metadata": {
        "id": "jBxyy7YT-FSF"
      },
      "source": [
        "#Se carga la base de datos de los usuarios, se divide por genero y se subdivide \r\n",
        "#en una muestra de entrenamiento y una de testing\r\n",
        "usuarios = pd.read_csv(\"usuarios.csv\", sep = \";\")\r\n",
        "#Se restringe a calificaciones mayores a 5 para obtener una distribución normal\r\n",
        "usuarios = usuarios[usuarios.rating >= 5]\r\n",
        "labels, levels = pd.factorize(usuarios.user)\r\n",
        "usuarios.user = labels\r\n",
        "\r\n",
        "hombres = usuarios[usuarios.gender == \"Male\"]\r\n",
        "hombres =  hombres.drop([\"gender\"], axis = 1)\r\n",
        "mujeres = usuarios[usuarios.gender == \"Female\"]\r\n",
        "mujeres =  mujeres.drop([\"gender\"], axis = 1)\r\n",
        "\r\n",
        "hombres_train, hombres_test = train_test_split(hombres, test_size=0.2)\r\n",
        "mujeres_train, mujeres_test = train_test_split(mujeres, test_size=0.2)\r\n",
        "\r\n",
        "\r\n",
        "hombres_train.to_csv('hombres_train.csv', sep = ';', index=False)\r\n",
        "hombres_test.to_csv('hombres_test.csv', sep = ';', index=False)\r\n",
        "mujeres_train.to_csv('mujeres_train.csv', sep = ';', index=False)\r\n",
        "mujeres_test.to_csv('mujeres_test.csv', sep = ';', index=False)"
      ],
      "execution_count": null,
      "outputs": []
    },
    {
      "cell_type": "markdown",
      "metadata": {
        "id": "HrMhQeXJawXh"
      },
      "source": [
        "# Algoritmos de recomendación"
      ]
    },
    {
      "cell_type": "markdown",
      "metadata": {
        "id": "QwB5pQT3pmhv"
      },
      "source": [
        "# Para hombres"
      ]
    },
    {
      "cell_type": "markdown",
      "metadata": {
        "id": "fjdwIGo6anwS"
      },
      "source": [
        "## User Average"
      ]
    },
    {
      "cell_type": "code",
      "metadata": {
        "id": "6Z7bQxddHKp4"
      },
      "source": [
        "user_avg_hombre = pyreclab.UserAvg( dataset = \"hombres_train.csv\",\r\n",
        "                            header = False,\r\n",
        "                            dlmchar = b';',\r\n",
        "                            usercol = 0,\r\n",
        "                            itemcol = 1,\r\n",
        "                            ratingcol = 2 )\r\n",
        "user_avg_hombre.train( progress = False )"
      ],
      "execution_count": null,
      "outputs": []
    },
    {
      "cell_type": "code",
      "metadata": {
        "id": "4yBXIE22VEtW",
        "colab": {
          "base_uri": "https://localhost:8080/"
        },
        "outputId": "88730159-4b2c-4e5f-c9bb-db8414319515"
      },
      "source": [
        "predlist, mae, rmse = user_avg_hombre.test( input_file = 'hombres_test.csv',\r\n",
        "                                     dlmchar = b';',\r\n",
        "                                     header = False,\r\n",
        "                                     usercol = 0,\r\n",
        "                                     itemcol = 1,\r\n",
        "                                     ratingcol = 2)\r\n",
        "# Mean Absolute Error y Root Mean Squared Error\r\n",
        "print(f\"MAE: {mae}\")\r\n",
        "print(f\"RMSE: {rmse}\")"
      ],
      "execution_count": null,
      "outputs": [
        {
          "output_type": "stream",
          "text": [
            "MAE: 0.9255193081390524\n",
            "RMSE: 1.1570243658387147\n"
          ],
          "name": "stdout"
        }
      ]
    },
    {
      "cell_type": "code",
      "metadata": {
        "id": "ujVsYzs5VEiK",
        "colab": {
          "base_uri": "https://localhost:8080/"
        },
        "outputId": "a8153b4e-0c18-4afd-a70c-484ff58592b6"
      },
      "source": [
        "recommendationList, map, ndcg = user_avg_hombre.testrec( input_file = 'hombres_test.csv',\r\n",
        "                                                dlmchar = b';',\r\n",
        "                                                header = False,\r\n",
        "                                                usercol = 0,\r\n",
        "                                                itemcol = 1,\r\n",
        "                                                ratingcol = 2,\r\n",
        "                                                topn = 10)\r\n",
        "# Mean Average Precision y Normalized Discounted Cumulative Gain\r\n",
        "print(f\"MAP@10: {map}\")\r\n",
        "print(f\"NDCGg@10: {ndcg}\")"
      ],
      "execution_count": null,
      "outputs": [
        {
          "output_type": "stream",
          "text": [
            "MAP@10: 0.00023381737705641944\n",
            "NDCGg@10: 7.846269403460716e-05\n"
          ],
          "name": "stdout"
        }
      ]
    },
    {
      "cell_type": "markdown",
      "metadata": {
        "id": "FbvrtbFPbHxo"
      },
      "source": [
        "## Item Average\t"
      ]
    },
    {
      "cell_type": "code",
      "metadata": {
        "id": "oXfGxN-LZC3D"
      },
      "source": [
        "item_avg_hombre = pyreclab.ItemAvg( dataset = \"hombres_train.csv\",\r\n",
        "                            header = False,\r\n",
        "                            dlmchar = b';',\r\n",
        "                            usercol = 0,\r\n",
        "                            itemcol = 1,\r\n",
        "                            ratingcol = 2 )\r\n",
        "item_avg_hombre.train( progress = False )"
      ],
      "execution_count": null,
      "outputs": []
    },
    {
      "cell_type": "code",
      "metadata": {
        "id": "10jncSNIZCUl",
        "colab": {
          "base_uri": "https://localhost:8080/"
        },
        "outputId": "15ebc801-af13-4fb5-b88b-8366c1e2ba6b"
      },
      "source": [
        "predlist2, mae2, rmse2 = item_avg_hombre.test( input_file = 'hombres_test.csv',\r\n",
        "                                     dlmchar = b';',\r\n",
        "                                     header = False,\r\n",
        "                                     usercol = 0,\r\n",
        "                                     itemcol = 1,\r\n",
        "                                     ratingcol = 2)\r\n",
        "# Mean Absolute Error y Root Mean Squared Error\r\n",
        "print( 'MAE: ' + str( mae2 ) )\r\n",
        "print( 'RMSE: ' + str( rmse2 ) )"
      ],
      "execution_count": null,
      "outputs": [
        {
          "output_type": "stream",
          "text": [
            "MAE: 0.9775413331230389\n",
            "RMSE: 1.2216119695603154\n"
          ],
          "name": "stdout"
        }
      ]
    },
    {
      "cell_type": "code",
      "metadata": {
        "id": "jIczCk60JBvJ",
        "colab": {
          "base_uri": "https://localhost:8080/"
        },
        "outputId": "1ddddf9f-f7b0-4187-8824-d304ee9c1b0c"
      },
      "source": [
        "recommendList2, maprec2, ndcg2 = item_avg_hombre.testrec( input_file = 'hombres_test.csv',\r\n",
        "                                                dlmchar = b';',\r\n",
        "                                                header = False,\r\n",
        "                                                usercol = 0,\r\n",
        "                                                itemcol = 1,\r\n",
        "                                                ratingcol = 2,\r\n",
        "                                                topn = 10)\r\n",
        "# Mean Average Precision y Normalized Discounted Cumulative Gain\r\n",
        "print( 'MAP: %f' % ( maprec2 ) )\r\n",
        "print( 'nDCG: %f' % ( ndcg2 ) )"
      ],
      "execution_count": null,
      "outputs": [
        {
          "output_type": "stream",
          "text": [
            "MAP: 0.000246\n",
            "nDCG: 0.000054\n"
          ],
          "name": "stdout"
        }
      ]
    },
    {
      "cell_type": "markdown",
      "metadata": {
        "id": "Aggk9fWCeeng"
      },
      "source": [
        "## SlopeOne"
      ]
    },
    {
      "cell_type": "code",
      "metadata": {
        "id": "yCFKP2TXKBId"
      },
      "source": [
        "slope_one_hombre = pyreclab.SlopeOne( dataset = \"hombres_train.csv\",\r\n",
        "                            header = False,\r\n",
        "                            dlmchar = b';',\r\n",
        "                            usercol = 0,\r\n",
        "                            itemcol = 1,\r\n",
        "                            ratingcol = 2 )\r\n",
        "slope_one_hombre.train( progress = False )"
      ],
      "execution_count": null,
      "outputs": []
    },
    {
      "cell_type": "code",
      "metadata": {
        "id": "ihxGG-NWfNbZ",
        "colab": {
          "base_uri": "https://localhost:8080/"
        },
        "outputId": "722eeb1f-2b1d-4522-b8da-9be568265eef"
      },
      "source": [
        "predlist3, mae3, rmse3 = slope_one_hombre.test( input_file = 'hombres_test.csv',\r\n",
        "                                     dlmchar = b';',\r\n",
        "                                     header = False,\r\n",
        "                                     usercol = 0,\r\n",
        "                                     itemcol = 1,\r\n",
        "                                     ratingcol = 2)\r\n",
        "# Mean Absolute Error y Root Mean Squared Error\r\n",
        "print( 'MAE: ' + str( mae3 ) )\r\n",
        "print( 'RMSE: ' + str( rmse3 ) )"
      ],
      "execution_count": null,
      "outputs": [
        {
          "output_type": "stream",
          "text": [
            "MAE: 2.9651703524557953\n",
            "RMSE: 3.2453181910451603\n"
          ],
          "name": "stdout"
        }
      ]
    },
    {
      "cell_type": "code",
      "metadata": {
        "id": "I9sJhpIrf2Ed",
        "colab": {
          "base_uri": "https://localhost:8080/"
        },
        "outputId": "1a6e47d7-b214-431b-d322-3c391683fefd"
      },
      "source": [
        "recommendList3, maprec3, ndcg3 = slope_one_hombre.testrec( input_file = 'hombres_test.csv',\r\n",
        "                                                dlmchar = b';',\r\n",
        "                                                header = False,\r\n",
        "                                                usercol = 0,\r\n",
        "                                                itemcol = 1,\r\n",
        "                                                ratingcol = 2,\r\n",
        "                                                topn = 10)\r\n",
        "# Mean Average Precision y Normalized Discounted Cumulative Gain\r\n",
        "print( 'MAP: %f' % ( maprec3 ) )\r\n",
        "print( 'nDCG: %f' % ( ndcg3 ) )"
      ],
      "execution_count": null,
      "outputs": [
        {
          "output_type": "stream",
          "text": [
            "MAP: 0.000027\n",
            "nDCG: 0.000016\n"
          ],
          "name": "stdout"
        }
      ]
    },
    {
      "cell_type": "markdown",
      "metadata": {
        "id": "xZaGTtmbwC66"
      },
      "source": [
        "# Para mujeres"
      ]
    },
    {
      "cell_type": "markdown",
      "metadata": {
        "id": "a9LY1lzcwTcQ"
      },
      "source": [
        "## User Average"
      ]
    },
    {
      "cell_type": "code",
      "metadata": {
        "id": "cg0JQe6etjAf"
      },
      "source": [
        "item_avg_mujer = pyreclab.ItemAvg( dataset = \"mujeres_train.csv\",\r\n",
        "                            header = False,\r\n",
        "                            dlmchar = b';',\r\n",
        "                            usercol = 0,\r\n",
        "                            itemcol = 1,\r\n",
        "                            ratingcol = 2 )\r\n",
        "item_avg_mujer.train( progress = False )"
      ],
      "execution_count": null,
      "outputs": []
    },
    {
      "cell_type": "code",
      "metadata": {
        "colab": {
          "base_uri": "https://localhost:8080/"
        },
        "id": "wkZ6FC2VtqV9",
        "outputId": "19a276ad-aeda-4893-975f-fa97bc74789f"
      },
      "source": [
        "predlist4, mae4, rmse4 = item_avg_mujer.test( input_file = 'mujeres_test.csv',\r\n",
        "                                     dlmchar = b';',\r\n",
        "                                     header = False,\r\n",
        "                                     usercol = 0,\r\n",
        "                                     itemcol = 1,\r\n",
        "                                     ratingcol = 2)\r\n",
        "# Mean Absolute Error y Root Mean Squared Error\r\n",
        "print(f\"MAE: {mae4}\")\r\n",
        "print(f\"RMSE: {rmse4}\")"
      ],
      "execution_count": null,
      "outputs": [
        {
          "output_type": "stream",
          "text": [
            "MAE: 1.056554236979082\n",
            "RMSE: 1.29881308567845\n"
          ],
          "name": "stdout"
        }
      ]
    },
    {
      "cell_type": "code",
      "metadata": {
        "colab": {
          "base_uri": "https://localhost:8080/"
        },
        "id": "PwkMRJN8tzP4",
        "outputId": "52069e30-26a7-4693-d230-9da8fafdba50"
      },
      "source": [
        "recommendationList4, map4, ndcg4 = item_avg_mujer.testrec( input_file = 'mujeres_test.csv',\r\n",
        "                                                dlmchar = b';',\r\n",
        "                                                header = False,\r\n",
        "                                                usercol = 0,\r\n",
        "                                                itemcol = 1,\r\n",
        "                                                ratingcol = 2,\r\n",
        "                                                topn = 10)\r\n",
        "# Mean Average Precision y Normalized Discounted Cumulative Gain\r\n",
        "print(f\"MAP@10: {map4}\")\r\n",
        "print(f\"NDCGg@10: {ndcg4}\")"
      ],
      "execution_count": null,
      "outputs": [
        {
          "output_type": "stream",
          "text": [
            "MAP@10: 5.585152139203166e-05\n",
            "NDCGg@10: 2.656372854349857e-05\n"
          ],
          "name": "stdout"
        }
      ]
    },
    {
      "cell_type": "markdown",
      "metadata": {
        "id": "9ozUSWTqwesT"
      },
      "source": [
        "## Item Average\t"
      ]
    },
    {
      "cell_type": "code",
      "metadata": {
        "id": "sNbCxKnUt-6G"
      },
      "source": [
        "item_avg_mujer = pyreclab.ItemAvg( dataset = \"mujeres_train.csv\",\r\n",
        "                            header = False,\r\n",
        "                            dlmchar = b';',\r\n",
        "                            usercol = 0,\r\n",
        "                            itemcol = 1,\r\n",
        "                            ratingcol = 2 )\r\n",
        "item_avg_mujer.train( progress = False )"
      ],
      "execution_count": null,
      "outputs": []
    },
    {
      "cell_type": "code",
      "metadata": {
        "colab": {
          "base_uri": "https://localhost:8080/"
        },
        "id": "wiQFNdXBwykp",
        "outputId": "be8622cc-9a8f-4fa4-c6be-3ba672487d18"
      },
      "source": [
        "predlist5, mae5, rmse5 = item_avg_mujer.test( input_file = 'mujeres_test.csv',\r\n",
        "                                     dlmchar = b';',\r\n",
        "                                     header = False,\r\n",
        "                                     usercol = 0,\r\n",
        "                                     itemcol = 1,\r\n",
        "                                     ratingcol = 2)\r\n",
        "# Mean Absolute Error y Root Mean Squared Error\r\n",
        "print( 'MAE: ' + str( mae5 ) )\r\n",
        "print( 'RMSE: ' + str( rmse5 ) )"
      ],
      "execution_count": null,
      "outputs": [
        {
          "output_type": "stream",
          "text": [
            "MAE: 1.056554236979082\n",
            "RMSE: 1.29881308567845\n"
          ],
          "name": "stdout"
        }
      ]
    },
    {
      "cell_type": "code",
      "metadata": {
        "colab": {
          "base_uri": "https://localhost:8080/"
        },
        "id": "2lxEWgJewydZ",
        "outputId": "2d144d07-86bb-4288-ffa1-63de331d1700"
      },
      "source": [
        "recommendList5, maprec5, ndcg5 = item_avg_mujer.testrec( input_file = 'mujeres_test.csv',\r\n",
        "                                                dlmchar = b';',\r\n",
        "                                                header = False,\r\n",
        "                                                usercol = 0,\r\n",
        "                                                itemcol = 1,\r\n",
        "                                                ratingcol = 2,\r\n",
        "                                                topn = 10)\r\n",
        "# Mean Average Precision y Normalized Discounted Cumulative Gain\r\n",
        "print( 'MAP: %f' % ( maprec5 ) )\r\n",
        "print( 'nDCG: %f' % ( ndcg5 ) )"
      ],
      "execution_count": null,
      "outputs": [
        {
          "output_type": "stream",
          "text": [
            "MAP: 0.000056\n",
            "nDCG: 0.000027\n"
          ],
          "name": "stdout"
        }
      ]
    },
    {
      "cell_type": "markdown",
      "metadata": {
        "id": "n4uzh4fQwfmR"
      },
      "source": [
        "## SlopeOne"
      ]
    },
    {
      "cell_type": "code",
      "metadata": {
        "id": "g7JiZj8ewiKR"
      },
      "source": [
        "slope_one_mujer = pyreclab.SlopeOne( dataset = \"mujeres_train.csv\",\r\n",
        "                            header = False,\r\n",
        "                            dlmchar = b';',\r\n",
        "                            usercol = 0,\r\n",
        "                            itemcol = 1,\r\n",
        "                            ratingcol = 2 )\r\n",
        "slope_one_mujer.train( progress = False )"
      ],
      "execution_count": null,
      "outputs": []
    },
    {
      "cell_type": "code",
      "metadata": {
        "colab": {
          "base_uri": "https://localhost:8080/"
        },
        "id": "3KN_LyqLxJGl",
        "outputId": "3b768d7a-9482-4ed8-aef9-19fc90206939"
      },
      "source": [
        "predlist6, mae6, rmse6 = slope_one_mujer.test( input_file = 'mujeres_test.csv',\r\n",
        "                                     dlmchar = b';',\r\n",
        "                                     header = False,\r\n",
        "                                     usercol = 0,\r\n",
        "                                     itemcol = 1,\r\n",
        "                                     ratingcol = 2)\r\n",
        "# Mean Absolute Error y Root Mean Squared Error\r\n",
        "print( 'MAE: ' + str( mae6 ) )\r\n",
        "print( 'RMSE: ' + str( rmse6 ) )"
      ],
      "execution_count": null,
      "outputs": [
        {
          "output_type": "stream",
          "text": [
            "MAE: 3.036010109962013\n",
            "RMSE: 3.3392635638287578\n"
          ],
          "name": "stdout"
        }
      ]
    },
    {
      "cell_type": "code",
      "metadata": {
        "colab": {
          "base_uri": "https://localhost:8080/"
        },
        "id": "SyYZMZixxQ_C",
        "outputId": "8a4cc735-df49-4901-942c-32e68f8add98"
      },
      "source": [
        "recommendList6, maprec6, ndcg6 = slope_one_mujer.testrec( input_file = 'mujeres_test.csv',\r\n",
        "                                                dlmchar = b';',\r\n",
        "                                                header = False,\r\n",
        "                                                usercol = 0,\r\n",
        "                                                itemcol = 1,\r\n",
        "                                                ratingcol = 2,\r\n",
        "                                                topn = 10)\r\n",
        "# Mean Average Precision y Normalized Discounted Cumulative Gain\r\n",
        "print( 'MAP: %f' % ( maprec6 ) )\r\n",
        "print( 'nDCG: %f' % ( ndcg6 ) )"
      ],
      "execution_count": null,
      "outputs": [
        {
          "output_type": "stream",
          "text": [
            "MAP: 0.000025\n",
            "nDCG: 0.000013\n"
          ],
          "name": "stdout"
        }
      ]
    }
  ]
}